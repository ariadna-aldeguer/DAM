{
 "cells": [
  {
   "cell_type": "code",
   "execution_count": 1,
   "metadata": {},
   "outputs": [
    {
     "data": {
      "text/plain": [
       "Intitializing Scala interpreter ..."
      ]
     },
     "metadata": {},
     "output_type": "display_data"
    },
    {
     "data": {
      "text/plain": [
       "Spark Web UI available at http://10.0.2.15:4040\n",
       "SparkContext available as 'sc' (version = 2.3.2, master = local[*], app id = local-1643737867385)\n",
       "SparkSession available as 'spark'\n"
      ]
     },
     "metadata": {},
     "output_type": "display_data"
    },
    {
     "data": {
      "text/plain": [
       "import org.apache.spark.SparkConf\n",
       "import org.apache.spark.SparkContext\n",
       "import org.apache.spark.rdd.RDD\n"
      ]
     },
     "execution_count": 1,
     "metadata": {},
     "output_type": "execute_result"
    }
   ],
   "source": [
    "import org.apache.spark.SparkConf\n",
    "import org.apache.spark.SparkContext\n",
    "import org.apache.spark.rdd.RDD"
   ]
  },
  {
   "cell_type": "code",
   "execution_count": 27,
   "metadata": {},
   "outputs": [],
   "source": [
    "// RDD : es una colección de elemento tolerante a fallos que es capaz de operar en paralelo"
   ]
  },
  {
   "cell_type": "code",
   "execution_count": 2,
   "metadata": {},
   "outputs": [
    {
     "data": {
      "text/plain": [
       "res0: org.apache.spark.SparkContext = org.apache.spark.SparkContext@2052ce2b\n"
      ]
     },
     "execution_count": 2,
     "metadata": {},
     "output_type": "execute_result"
    }
   ],
   "source": [
    "sc"
   ]
  },
  {
   "cell_type": "code",
   "execution_count": 5,
   "metadata": {},
   "outputs": [
    {
     "data": {
      "text/plain": [
       "res3: Array[(String, String)] = Array((spark.eventLog.enabled,true), (spark.app.id,local-1643737867385), (spark.repl.class.outputDir,/tmp/tmprmtnha6o), (spark.executor.id,driver), (spark.driver.host,10.0.2.15), (spark.app.name,spylon-kernel), (spark.rdd.compress,True), (spark.repl.class.uri,spark://10.0.2.15:42541/classes), (spark.eventLog.dir,/var/log/ipnb), (spark.serializer.objectStreamReset,100), (spark.master,local[*]), (spark.submit.deployMode,client), (spark.driver.port,42541), (spark.ui.showConsoleProgress,true))\n"
      ]
     },
     "execution_count": 5,
     "metadata": {},
     "output_type": "execute_result"
    }
   ],
   "source": [
    "sc.getConf.getAll;"
   ]
  },
  {
   "cell_type": "code",
   "execution_count": 9,
   "metadata": {},
   "outputs": [
    {
     "data": {
      "text/plain": [
       "cadenas: Array[String] = Array(openwebinars, spark, bigdata, openwebinars, spark)\n"
      ]
     },
     "execution_count": 9,
     "metadata": {},
     "output_type": "execute_result"
    }
   ],
   "source": [
    "val cadenas = Array(\"openwebinars\", \"spark\", \"bigdata\", \"openwebinars\",\"spark\")"
   ]
  },
  {
   "cell_type": "code",
   "execution_count": 10,
   "metadata": {},
   "outputs": [],
   "source": [
    "// Para convertir el array en un RDD - y cuantas partes queremos"
   ]
  },
  {
   "cell_type": "code",
   "execution_count": 14,
   "metadata": {},
   "outputs": [
    {
     "data": {
      "text/plain": [
       "cadenasRDD: org.apache.spark.rdd.RDD[String] = ParallelCollectionRDD[1] at parallelize at <console>:30\n"
      ]
     },
     "execution_count": 14,
     "metadata": {},
     "output_type": "execute_result"
    }
   ],
   "source": [
    "val cadenasRDD = sc.parallelize(cadenas, 3)"
   ]
  },
  {
   "cell_type": "code",
   "execution_count": 12,
   "metadata": {},
   "outputs": [],
   "source": [
    "// para ver el contenido: "
   ]
  },
  {
   "cell_type": "code",
   "execution_count": 15,
   "metadata": {},
   "outputs": [
    {
     "data": {
      "text/plain": [
       "res7: Array[String] = Array(openwebinars, spark, bigdata, openwebinars, spark)\n"
      ]
     },
     "execution_count": 15,
     "metadata": {},
     "output_type": "execute_result"
    }
   ],
   "source": [
    "cadenasRDD.collect()"
   ]
  },
  {
   "cell_type": "code",
   "execution_count": 17,
   "metadata": {},
   "outputs": [
    {
     "data": {
      "text/plain": [
       "numerosRDD: org.apache.spark.rdd.RDD[Int] = ParallelCollectionRDD[3] at parallelize at <console>:30\n",
       "res8: Array[Int] = Array(1, 2, 3, 4, 5, 6, 7, 8, 9)\n"
      ]
     },
     "execution_count": 17,
     "metadata": {},
     "output_type": "execute_result"
    }
   ],
   "source": [
    "val numerosRDD = sc.parallelize(Array(1,2,3,4,5,6,7,8,9), 3)\n",
    "numerosRDD.collect()"
   ]
  },
  {
   "cell_type": "code",
   "execution_count": 18,
   "metadata": {},
   "outputs": [
    {
     "data": {
      "text/plain": [
       "file: org.apache.spark.rdd.RDD[String] = /home/vmuser/practica_rdd/textoRDD MapPartitionsRDD[5] at textFile at <console>:28\n"
      ]
     },
     "execution_count": 18,
     "metadata": {},
     "output_type": "execute_result"
    }
   ],
   "source": [
    "val file = sc.textFile(\"/home/vmuser/practica_rdd/textoRDD\")"
   ]
  },
  {
   "cell_type": "code",
   "execution_count": 19,
   "metadata": {},
   "outputs": [
    {
     "data": {
      "text/plain": [
       "res9: Array[String] = Array(Openwebinars es una plataforma de cursos., Openwebinars contiene cursos de Big Data., \"\")\n"
      ]
     },
     "execution_count": 19,
     "metadata": {},
     "output_type": "execute_result"
    }
   ],
   "source": [
    "file.collect()"
   ]
  },
  {
   "cell_type": "code",
   "execution_count": 21,
   "metadata": {},
   "outputs": [
    {
     "data": {
      "text/plain": [
       "filtro: org.apache.spark.rdd.RDD[String] = MapPartitionsRDD[7] at filter at <console>:32\n",
       "res11: Array[String] = Array(Openwebinars es una plataforma de cursos.)\n"
      ]
     },
     "execution_count": 21,
     "metadata": {},
     "output_type": "execute_result"
    }
   ],
   "source": [
    "var filtro = file.filter(line => line.contains(\"plataforma\"))\n",
    "filtro.collect()"
   ]
  },
  {
   "cell_type": "code",
   "execution_count": 23,
   "metadata": {},
   "outputs": [
    {
     "data": {
      "text/plain": [
       "res13: String = Openwebinars es una plataforma de cursos.\n"
      ]
     },
     "execution_count": 23,
     "metadata": {},
     "output_type": "execute_result"
    }
   ],
   "source": [
    "file.first()"
   ]
  },
  {
   "cell_type": "code",
   "execution_count": 24,
   "metadata": {},
   "outputs": [],
   "source": [
    "// Como es perezoso, lo siguiente funciona, pero falla: "
   ]
  },
  {
   "cell_type": "code",
   "execution_count": 25,
   "metadata": {},
   "outputs": [
    {
     "data": {
      "text/plain": [
       "fileNotFound: org.apache.spark.rdd.RDD[String] = /home/vmuser/ficheroNoExiste MapPartitionsRDD[9] at textFile at <console>:28\n"
      ]
     },
     "execution_count": 25,
     "metadata": {},
     "output_type": "execute_result"
    }
   ],
   "source": [
    "val fileNotFound = sc.textFile(\"/home/vmuser/ficheroNoExiste\") "
   ]
  },
  {
   "cell_type": "code",
   "execution_count": 26,
   "metadata": {},
   "outputs": [
    {
     "ename": "org.apache.hadoop.mapred.InvalidInputException",
     "evalue": " Input path does not exist: file:/home/vmuser/ficheroNoExiste",
     "output_type": "error",
     "traceback": [
      "org.apache.hadoop.mapred.InvalidInputException: Input path does not exist: file:/home/vmuser/ficheroNoExiste",
      "  at org.apache.hadoop.mapred.FileInputFormat.singleThreadedListStatus(FileInputFormat.java:287)",
      "  at org.apache.hadoop.mapred.FileInputFormat.listStatus(FileInputFormat.java:229)",
      "  at org.apache.hadoop.mapred.FileInputFormat.getSplits(FileInputFormat.java:315)",
      "  at org.apache.spark.rdd.HadoopRDD.getPartitions(HadoopRDD.scala:200)",
      "  at org.apache.spark.rdd.RDD$$anonfun$partitions$2.apply(RDD.scala:253)",
      "  at org.apache.spark.rdd.RDD$$anonfun$partitions$2.apply(RDD.scala:251)",
      "  at scala.Option.getOrElse(Option.scala:121)",
      "  at org.apache.spark.rdd.RDD.partitions(RDD.scala:251)",
      "  at org.apache.spark.rdd.MapPartitionsRDD.getPartitions(MapPartitionsRDD.scala:46)",
      "  at org.apache.spark.rdd.RDD$$anonfun$partitions$2.apply(RDD.scala:253)",
      "  at org.apache.spark.rdd.RDD$$anonfun$partitions$2.apply(RDD.scala:251)",
      "  at scala.Option.getOrElse(Option.scala:121)",
      "  at org.apache.spark.rdd.RDD.partitions(RDD.scala:251)",
      "  at org.apache.spark.SparkContext.runJob(SparkContext.scala:2099)",
      "  at org.apache.spark.rdd.RDD$$anonfun$collect$1.apply(RDD.scala:945)",
      "  at org.apache.spark.rdd.RDDOperationScope$.withScope(RDDOperationScope.scala:151)",
      "  at org.apache.spark.rdd.RDDOperationScope$.withScope(RDDOperationScope.scala:112)",
      "  at org.apache.spark.rdd.RDD.withScope(RDD.scala:363)",
      "  at org.apache.spark.rdd.RDD.collect(RDD.scala:944)",
      "  ... 36 elided",
      ""
     ]
    }
   ],
   "source": [
    "fileNotFound.collect()"
   ]
  },
  {
   "cell_type": "code",
   "execution_count": null,
   "metadata": {},
   "outputs": [],
   "source": []
  }
 ],
 "metadata": {
  "kernelspec": {
   "display_name": "Scala 2.11 (SPylon)",
   "language": "scala",
   "name": "spylon-kernel"
  },
  "language_info": {
   "codemirror_mode": "text/x-scala",
   "file_extension": ".scala",
   "help_links": [
    {
     "text": "MetaKernel Magics",
     "url": "https://github.com/calysto/metakernel/blob/master/metakernel/magics/README.md"
    }
   ],
   "mimetype": "text/x-scala",
   "name": "scala",
   "pygments_lexer": "scala",
   "version": "0.4.1"
  }
 },
 "nbformat": 4,
 "nbformat_minor": 2
}
