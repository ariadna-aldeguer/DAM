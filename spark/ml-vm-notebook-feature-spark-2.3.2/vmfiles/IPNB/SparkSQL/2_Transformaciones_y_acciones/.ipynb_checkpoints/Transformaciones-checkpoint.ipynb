{
 "cells": [
  {
   "cell_type": "code",
   "execution_count": 9,
   "metadata": {},
   "outputs": [
    {
     "data": {
      "text/plain": [
       "import org.apache.spark.SparkConf\n",
       "import org.apache.spark.SparkContext\n",
       "import org.apache.spark.rdd.RDD\n",
       "cadenas: Array[String] = Array(openwebinars, spark, bigdata, openwebinars, spark)\n",
       "cadenasRDD: org.apache.spark.rdd.RDD[String] = ParallelCollectionRDD[0] at parallelize at <console>:33\n"
      ]
     },
     "execution_count": 9,
     "metadata": {},
     "output_type": "execute_result"
    }
   ],
   "source": [
    "import org.apache.spark.SparkConf\n",
    "import org.apache.spark.SparkContext\n",
    "import org.apache.spark.rdd.RDD\n",
    "\n",
    "val cadenas = Array(\"openwebinars\", \"spark\", \"bigdata\", \"openwebinars\",\"spark\")\n",
    "val cadenasRDD = sc.parallelize(cadenas, 3)"
   ]
  },
  {
   "cell_type": "code",
   "execution_count": 4,
   "metadata": {},
   "outputs": [],
   "source": [
    "//Transformaciones: crea un nuevo RDD a partir de otro existente\n",
    "// Acciones: Genera un valor que es mandado al Driver"
   ]
  },
  {
   "cell_type": "code",
   "execution_count": 5,
   "metadata": {},
   "outputs": [],
   "source": [
    "// Transformaciones\n",
    "// map / filter / flatMap / union / intersection / distinct\n",
    "// groupByKey / reduceByKey / sortByKey / join / cogroup / coalesce"
   ]
  },
  {
   "cell_type": "code",
   "execution_count": 7,
   "metadata": {},
   "outputs": [],
   "source": [
    "// Acciones\n",
    "// reduce / collect / count / first / take\n",
    "// saveAsTextFile / max, min / countByKey / foreach"
   ]
  },
  {
   "cell_type": "code",
   "execution_count": 11,
   "metadata": {},
   "outputs": [],
   "source": [
    "/* ------------------------------------ TRANSFORMACIONES ------------------------------------------------ */"
   ]
  },
  {
   "cell_type": "code",
   "execution_count": 14,
   "metadata": {},
   "outputs": [
    {
     "data": {
      "text/plain": [
       "cadenasMayusculas: org.apache.spark.rdd.RDD[String] = MapPartitionsRDD[3] at map at <console>:37\n",
       "res10: Array[String] = Array(OPENWEBINARS, SPARK, BIGDATA, OPENWEBINARS, SPARK)\n"
      ]
     },
     "execution_count": 14,
     "metadata": {},
     "output_type": "execute_result"
    }
   ],
   "source": [
    "// Tranformación Map - Convertir cada palabra a mayuscula\n",
    "val cadenasMayusculas = cadenasRDD.map(palabra => palabra.toUpperCase())\n",
    "cadenasMayusculas.collect()"
   ]
  },
  {
   "cell_type": "code",
   "execution_count": 16,
   "metadata": {},
   "outputs": [
    {
     "data": {
      "text/plain": [
       "data: org.apache.spark.rdd.RDD[String] = MapPartitionsRDD[4] at filter at <console>:37\n",
       "res12: Array[String] = Array(BIGDATA)\n"
      ]
     },
     "execution_count": 16,
     "metadata": {},
     "output_type": "execute_result"
    }
   ],
   "source": [
    "// Transformación filter\n",
    "val data = cadenasMayusculas.filter(p => p.contains(\"DATA\"))\n",
    "data.collect()"
   ]
  },
  {
   "cell_type": "code",
   "execution_count": 18,
   "metadata": {},
   "outputs": [
    {
     "data": {
      "text/plain": [
       "mayusLength: org.apache.spark.rdd.RDD[Any] = MapPartitionsRDD[5] at flatMap at <console>:35\n",
       "res14: Array[Any] = Array(OPENWEBINARS, 12, SPARK, 5, BIGDATA, 7, OPENWEBINARS, 12, SPARK, 5)\n"
      ]
     },
     "execution_count": 18,
     "metadata": {},
     "output_type": "execute_result"
    }
   ],
   "source": [
    "// Transformación flatMap : saca como resultado un objecto complejo como una lista\n",
    "val mayusLength = cadenasRDD.flatMap(p => List(p.toUpperCase(), p.length))\n",
    "mayusLength.collect()"
   ]
  },
  {
   "cell_type": "code",
   "execution_count": 19,
   "metadata": {},
   "outputs": [
    {
     "data": {
      "text/plain": [
       "res15: Array[String] = Array(openwebinars, spark, bigdata, openwebinars, spark, OPENWEBINARS, SPARK, BIGDATA, OPENWEBINARS, SPARK)\n"
      ]
     },
     "execution_count": 19,
     "metadata": {},
     "output_type": "execute_result"
    }
   ],
   "source": [
    "// Transformación union : nos une dos RDD\n",
    "cadenasRDD.union(cadenasMayusculas).collect()"
   ]
  },
  {
   "cell_type": "code",
   "execution_count": 20,
   "metadata": {},
   "outputs": [
    {
     "data": {
      "text/plain": [
       "res16: Array[String] = Array(openwebinars, spark, bigdata)\n"
      ]
     },
     "execution_count": 20,
     "metadata": {},
     "output_type": "execute_result"
    }
   ],
   "source": [
    "// Transformación distinct\n",
    "cadenasRDD.distinct().collect()"
   ]
  },
  {
   "cell_type": "code",
   "execution_count": 23,
   "metadata": {},
   "outputs": [
    {
     "data": {
      "text/plain": [
       "pair: org.apache.spark.rdd.RDD[(String, Int)] = MapPartitionsRDD[12] at map at <console>:37\n",
       "group: org.apache.spark.rdd.RDD[(String, Iterable[Int])] = ShuffledRDD[13] at groupByKey at <console>:39\n",
       "res18: Array[(String, Iterable[Int])] = Array((openwebinars,CompactBuffer(1, 1)), (spark,CompactBuffer(1, 1)), (bigdata,CompactBuffer(1)))\n"
      ]
     },
     "execution_count": 23,
     "metadata": {},
     "output_type": "execute_result"
    }
   ],
   "source": [
    "// Transformaciones groupByKey y reduceByKey\n",
    "val pair = cadenasRDD.map(p => (p,1))\n",
    "pair.collect()\n",
    "val group = pair.groupByKey()\n",
    "group.collect()"
   ]
  },
  {
   "cell_type": "code",
   "execution_count": null,
   "metadata": {},
   "outputs": [],
   "source": [
    "val suma = pair.reduceByKey(_ + _)"
   ]
  },
  {
   "cell_type": "code",
   "execution_count": null,
   "metadata": {},
   "outputs": [],
   "source": []
  }
 ],
 "metadata": {
  "kernelspec": {
   "display_name": "Scala 2.11 (SPylon)",
   "language": "scala",
   "name": "spylon-kernel"
  },
  "language_info": {
   "codemirror_mode": "text/x-scala",
   "file_extension": ".scala",
   "help_links": [
    {
     "text": "MetaKernel Magics",
     "url": "https://github.com/calysto/metakernel/blob/master/metakernel/magics/README.md"
    }
   ],
   "mimetype": "text/x-scala",
   "name": "scala",
   "pygments_lexer": "scala",
   "version": "0.4.1"
  }
 },
 "nbformat": 4,
 "nbformat_minor": 2
}
