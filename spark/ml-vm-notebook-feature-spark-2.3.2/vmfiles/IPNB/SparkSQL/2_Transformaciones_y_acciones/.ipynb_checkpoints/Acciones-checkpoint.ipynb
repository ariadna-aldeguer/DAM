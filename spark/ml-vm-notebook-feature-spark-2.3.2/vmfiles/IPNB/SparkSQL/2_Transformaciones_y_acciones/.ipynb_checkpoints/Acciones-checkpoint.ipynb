{
 "cells": [
  {
   "cell_type": "code",
   "execution_count": 2,
   "metadata": {},
   "outputs": [
    {
     "data": {
      "text/plain": [
       "import org.apache.spark.SparkConf\n",
       "import org.apache.spark.SparkContext\n",
       "import org.apache.spark.rdd.RDD\n"
      ]
     },
     "execution_count": 2,
     "metadata": {},
     "output_type": "execute_result"
    }
   ],
   "source": [
    "import org.apache.spark.SparkConf\n",
    "import org.apache.spark.SparkContext\n",
    "import org.apache.spark.rdd.RDD"
   ]
  },
  {
   "cell_type": "markdown",
   "metadata": {},
   "source": [
    "Creariamos 2 variables, SparkConf y SparkContext. Están creadas por defecto.\n",
    "\n",
    "val conf = new SparkConf().setAppName(\"RDD\").setMaster(\"local\").setSparkHome(\"/opt/t/spark/spark-2.2.0-bin-custom\");\n",
    "val sc = new SparkContext(conf);"
   ]
  },
  {
   "cell_type": "code",
   "execution_count": 4,
   "metadata": {},
   "outputs": [
    {
     "data": {
      "text/plain": [
       "cadenas: Array[String] = Array(Openwebinars, bigdata, spark, data, openwebinars, openwebinars, spark, openwebinars, bigdata)\n",
       "numeros: Array[Int] = Array(1, 2, 3, 4, 5, 6, 7)\n"
      ]
     },
     "execution_count": 4,
     "metadata": {},
     "output_type": "execute_result"
    }
   ],
   "source": [
    "val cadenas = Array(\"Openwebinars\",\"bigdata\",\"spark\",\"data\", \"openwebinars\", \"openwebinars\", \n",
    "      \"spark\",\"openwebinars\",\"bigdata\")\n",
    "val numeros = Array(1,2,3,4,5,6,7)"
   ]
  },
  {
   "cell_type": "code",
   "execution_count": 6,
   "metadata": {},
   "outputs": [
    {
     "data": {
      "text/plain": [
       "cadenasRDD: org.apache.spark.rdd.RDD[String] = ParallelCollectionRDD[1] at parallelize at <console>:32\n",
       "numerosRDD: org.apache.spark.rdd.RDD[Int] = ParallelCollectionRDD[2] at parallelize at <console>:33\n",
       "res3: Array[Int] = Array(1, 2, 3, 4, 5, 6, 7)\n"
      ]
     },
     "execution_count": 6,
     "metadata": {},
     "output_type": "execute_result"
    }
   ],
   "source": [
    "// Creamos RDD distribuido en 3 nodos.\n",
    "val cadenasRDD = sc.parallelize(cadenas, 3); \n",
    "val numerosRDD = sc.parallelize(numeros, 3); \n",
    "cadenasRDD.collect()\n",
    "numerosRDD.collect()"
   ]
  },
  {
   "cell_type": "code",
   "execution_count": 7,
   "metadata": {},
   "outputs": [
    {
     "data": {
      "text/plain": [
       "res4: Int = 28\n"
      ]
     },
     "execution_count": 7,
     "metadata": {},
     "output_type": "execute_result"
    }
   ],
   "source": [
    "// Accion reduce\n",
    "numerosRDD.reduce(_+_)"
   ]
  },
  {
   "cell_type": "code",
   "execution_count": 8,
   "metadata": {},
   "outputs": [
    {
     "data": {
      "text/plain": [
       "res5: Long = 16\n"
      ]
     },
     "execution_count": 8,
     "metadata": {},
     "output_type": "execute_result"
    }
   ],
   "source": [
    "// Accion count\n",
    "numerosRDD.count() + cadenasRDD.count()"
   ]
  },
  {
   "cell_type": "code",
   "execution_count": 9,
   "metadata": {},
   "outputs": [
    {
     "data": {
      "text/plain": [
       "res6: String = Openwebinars\n"
      ]
     },
     "execution_count": 9,
     "metadata": {},
     "output_type": "execute_result"
    }
   ],
   "source": [
    "// Accion first\n",
    "cadenasRDD.first()"
   ]
  },
  {
   "cell_type": "code",
   "execution_count": 10,
   "metadata": {},
   "outputs": [
    {
     "data": {
      "text/plain": [
       "res7: Array[String] = Array(Openwebinars, bigdata, spark, data)\n"
      ]
     },
     "execution_count": 10,
     "metadata": {},
     "output_type": "execute_result"
    }
   ],
   "source": [
    "// Accion take\n",
    "cadenasRDD.take(4)"
   ]
  },
  {
   "cell_type": "code",
   "execution_count": 16,
   "metadata": {},
   "outputs": [
    {
     "data": {
      "text/plain": [
       "res13: Int = 7\n"
      ]
     },
     "execution_count": 16,
     "metadata": {},
     "output_type": "execute_result"
    }
   ],
   "source": [
    "// Accion max, min, ...\n",
    "numerosRDD.max()"
   ]
  },
  {
   "cell_type": "code",
   "execution_count": 17,
   "metadata": {},
   "outputs": [
    {
     "data": {
      "text/plain": [
       "pair: org.apache.spark.rdd.RDD[(String, Int)] = MapPartitionsRDD[4] at map at <console>:30\n",
       "res14: scala.collection.Map[String,Long] = Map(bigdata -> 2, data -> 1, Openwebinars -> 1, spark -> 2, openwebinars -> 3)\n"
      ]
     },
     "execution_count": 17,
     "metadata": {},
     "output_type": "execute_result"
    }
   ],
   "source": [
    "// Accion countByKey\n",
    "val pair = cadenasRDD.map(p => (p,1))\n",
    "pair.countByKey()"
   ]
  },
  {
   "cell_type": "code",
   "execution_count": 3,
   "metadata": {},
   "outputs": [
    {
     "name": "stdout",
     "output_type": "stream",
     "text": [
      "La palabra es Openwebinars\n",
      "La palabra es bigdata\n",
      "La palabra es spark\n",
      "La palabra es data\n",
      "La palabra es openwebinars\n",
      "La palabra es openwebinars\n",
      "La palabra es spark\n",
      "La palabra es openwebinars\n",
      "La palabra es bigdata\n"
     ]
    }
   ],
   "source": [
    "//Accion foreach\n",
    "cadenasRDD.foreach(p => println(\"La palabra es \" + p))"
   ]
  }
 ],
 "metadata": {
  "kernelspec": {
   "display_name": "Scala 2.11 (SPylon)",
   "language": "scala",
   "name": "spylon-kernel"
  },
  "language_info": {
   "codemirror_mode": "text/x-scala",
   "file_extension": ".scala",
   "help_links": [
    {
     "text": "MetaKernel Magics",
     "url": "https://github.com/calysto/metakernel/blob/master/metakernel/magics/README.md"
    }
   ],
   "mimetype": "text/x-scala",
   "name": "scala",
   "pygments_lexer": "scala",
   "version": "0.4.0"
  }
 },
 "nbformat": 4,
 "nbformat_minor": 2
}
